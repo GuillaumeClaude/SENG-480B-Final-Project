{
 "cells": [
  {
   "cell_type": "code",
   "execution_count": 1,
   "metadata": {},
   "outputs": [
    {
     "ename": "ModuleNotFoundError",
     "evalue": "No module named 'pandas'",
     "output_type": "error",
     "traceback": [
      "\u001b[1;31m---------------------------------------------------------------------------\u001b[0m",
      "\u001b[1;31mModuleNotFoundError\u001b[0m                       Traceback (most recent call last)",
      "Cell \u001b[1;32mIn [1], line 1\u001b[0m\n\u001b[1;32m----> 1\u001b[0m \u001b[39mimport\u001b[39;00m \u001b[39mpandas\u001b[39;00m \u001b[39mas\u001b[39;00m \u001b[39mpd\u001b[39;00m\n\u001b[0;32m      3\u001b[0m df \u001b[39m=\u001b[39m pd\u001b[39m.\u001b[39mread_csv(\u001b[39m\"\u001b[39m\u001b[39m/Users/admin/Downloads/seng480b/Diff size data/prlist.txt\u001b[39m\u001b[39m\"\u001b[39m, sep\u001b[39m=\u001b[39m\u001b[39m\"\u001b[39m\u001b[39m,\u001b[39m\u001b[39m\"\u001b[39m)\n\u001b[0;32m      4\u001b[0m df[\u001b[39m\"\u001b[39m\u001b[39msloc\u001b[39m\u001b[39m\"\u001b[39m]\u001b[39m=\u001b[39mdf[\u001b[39m'\u001b[39m\u001b[39mInsertions\u001b[39m\u001b[39m'\u001b[39m]\u001b[39m+\u001b[39mdf[\u001b[39m'\u001b[39m\u001b[39mDeletions\u001b[39m\u001b[39m'\u001b[39m]\u001b[39m+\u001b[39mdf[\u001b[39m'\u001b[39m\u001b[39mModifications\u001b[39m\u001b[39m'\u001b[39m]\n",
      "\u001b[1;31mModuleNotFoundError\u001b[0m: No module named 'pandas'"
     ]
    }
   ],
   "source": [
    "import pandas as pd\n",
    "\n",
    "df = pd.read_csv(\"/Users/admin/Downloads/seng480b/Diff size data/prlist.txt\", sep=\",\")\n",
    "df[\"sloc\"]=df['Insertions']+df['Deletions']+df['Modifications']"
   ]
  },
  {
   "cell_type": "code",
   "execution_count": null,
   "metadata": {},
   "outputs": [],
   "source": [
    "def turkey_outlier(df, column, whisker_width=1.5):\n",
    "    # Calculate Q1, Q2 and IQR\n",
    "    q1 = df[column].quantile(0.25)                 \n",
    "    q3 = df[column].quantile(0.75)\n",
    "    iqr = q3 - q1\n",
    "    # Apply filter with respect to IQR, including optional whiskers\n",
    "    filter = (df[column] >= q1 - whisker_width*iqr) & (df[column] <= q3 + whisker_width*iqr)\n",
    "    return df.loc[filter]                                                     \n",
    "\n",
    "# Example for whiskers = 1.5, as requested by the OP\n",
    "\n",
    "display(df)\n",
    "display(df.describe())\n",
    "df = turkey_outlier(df, 'Merge time minutes', whisker_width=1.5)\n",
    "df = turkey_outlier(df, 'sloc', whisker_width=1.5)\n",
    "display(df)\n",
    "df.describe()"
   ]
  },
  {
   "cell_type": "code",
   "execution_count": null,
   "metadata": {},
   "outputs": [],
   "source": [
    "import math\n",
    "import numpy as np\n",
    "day=df[\"Merge time minutes\"]/60\n",
    "day=pd.to_numeric(day, downcast='integer').apply(np.ceil)\n",
    "sloc=pd.DataFrame(day)\n",
    "sloc[\"sloc\"]= df['Insertions']+df['Deletions']+df['Modifications']\n",
    "display(sloc)"
   ]
  },
  {
   "cell_type": "code",
   "execution_count": null,
   "metadata": {},
   "outputs": [],
   "source": [
    "import matplotlib.pylab as plt\n",
    "sloc=sloc.sample(n=1000,random_state=3)\n",
    "plt.figure(figsize=(8,8))\n",
    "plt.axes(xscale='log', yscale='log')\n",
    "\n",
    "plt.scatter(sloc['sloc'], sloc['Merge time minutes'],s=5)\n",
    "plt.xlabel('sloc')\n",
    "plt.ylabel('Merge time in hours')"
   ]
  },
  {
   "cell_type": "code",
   "execution_count": null,
   "metadata": {},
   "outputs": [],
   "source": [
    "import matplotlib.pylab as plt\n",
    "sloc=sloc.sample(n=1000,random_state=3)\n",
    "plt.figure(figsize=(8,8))\n",
    "plt.axes(xscale='log', yscale='log')\n",
    "\n",
    "plt.scatter(sloc['sloc'], sloc['Merge time minutes'],s=5)\n",
    "plt.xlabel('sloc')\n",
    "plt.ylabel('Merge time in hours')"
   ]
  }
 ],
 "metadata": {
  "kernelspec": {
   "display_name": "Python 3.9.13 64-bit (microsoft store)",
   "language": "python",
   "name": "python3"
  },
  "language_info": {
   "codemirror_mode": {
    "name": "ipython",
    "version": 3
   },
   "file_extension": ".py",
   "mimetype": "text/x-python",
   "name": "python",
   "nbconvert_exporter": "python",
   "pygments_lexer": "ipython3",
   "version": "3.9.13"
  },
  "orig_nbformat": 4,
  "vscode": {
   "interpreter": {
    "hash": "1db6d0c0fb62fcd92812f526c45c77dc568410c92bb0ad7cc615a53ad33175c5"
   }
  }
 },
 "nbformat": 4,
 "nbformat_minor": 2
}
